{
 "cells": [
  {
   "cell_type": "code",
   "execution_count": 2,
   "metadata": {},
   "outputs": [],
   "source": [
    "import os\n",
    "import json\n",
    "from collections import defaultdict\n",
    "\n",
    "def calculate_statistics(result_path):\n",
    "    # Initialize accumulators and counters\n",
    "    total_rouge_scores = defaultdict(float)\n",
    "    count_rouge_scores = defaultdict(int)\n",
    "\n",
    "    total_bert_scores = defaultdict(float)\n",
    "    count_bert_scores = defaultdict(int)\n",
    "    \n",
    "    missing_count = 0\n",
    "\n",
    "    # Iterate through the result files\n",
    "    result_files = os.listdir(\"../../data/process_data\")\n",
    "    \n",
    "    for result_file in result_files:\n",
    "        if result_file != \"Adaptation_and_Mitigation\":\n",
    "            continue\n",
    "        with open(f\"../../data/process_data/{result_file}/{result_path}\", 'r', encoding='utf-8') as f:\n",
    "            report_list = json.load(f)\n",
    "            \n",
    "            for report in report_list:\n",
    "                # Extract and check sections with possible \"Missing\"\n",
    "                for key, section in report.items():\n",
    "                    \n",
    "                    if isinstance(section, dict):  # Process the nested dictionary\n",
    "                        # Check for \"summary\" or \"report\" for \"Missing\"\n",
    "                        if \"summary\" in section and \"Missing\" in section[\"summary\"]:\n",
    "                            missing_count += 1\n",
    "                        if \"report\" in section:\n",
    "                            for item in section[\"report\"]:\n",
    "                                if any(\"Missing\" in retrieved for retrieved in item.get(\"retrieved\", [])):\n",
    "                                    missing_count += 1\n",
    "\n",
    "                        # calculate rouge score\n",
    "                        rouge = section[\"rouge\"]\n",
    "                        for rouge_metric in [\"ROUGE-1\", \"ROUGE-2\", \"ROUGE-L\"]:\n",
    "                            for metric_type in [\"Precision\", \"Recall\", \"F1\"]:\n",
    "                                key = f\"{rouge_metric} {metric_type}\"\n",
    "                                value = rouge.get(key, 0)\n",
    "                                total_rouge_scores[key] += float(value)\n",
    "                                count_rouge_scores[key] += 1\n",
    "                        \n",
    "                        # calculate BERT score\n",
    "                        bert = section[\"bertscore\"]\n",
    "                        for rouge_metric in [\"BERTScore Precision\", \"BERTScore Recall\", \"BERTScore F1\"]:\n",
    "                            key = f\"{rouge_metric}\"\n",
    "                            value = bert.get(key, 0)\n",
    "                            total_bert_scores[key] += float(value)\n",
    "                            count_bert_scores[key] += 1\n",
    "\n",
    "    # Calculate averages\n",
    "    average_rouge_scores = {key: (total_rouge_scores[key] / count_rouge_scores[key]) \n",
    "                            if count_rouge_scores[key] > 0 else 0 \n",
    "                            for key in total_rouge_scores}\n",
    "    \n",
    "    average_bert_scores = {key: (total_bert_scores[key] / count_bert_scores[key]) \n",
    "                            if count_bert_scores[key] > 0 else 0 \n",
    "                            for key in total_bert_scores}\n",
    "    \n",
    "    # Print results\n",
    "\n",
    "    print(\"\\n=== Average ROUGE Scores ===\")\n",
    "    for key, avg in average_rouge_scores.items():\n",
    "        print(f\"{key}: {avg:.4f}\")\n",
    "\n",
    "    print(\"\\n=== Average BERT Scores ===\")\n",
    "    for key, avg in average_bert_scores.items():\n",
    "        print(f\"{key}: {avg:.4f}\")\n",
    "\n",
    "    print(f\"\\nTotal 'Missing' count: {missing_count}\")\n"
   ]
  },
  {
   "cell_type": "code",
   "execution_count": 5,
   "metadata": {},
   "outputs": [
    {
     "name": "stdout",
     "output_type": "stream",
     "text": [
      "\n",
      "=== Average ROUGE Scores ===\n",
      "ROUGE-1 Precision: 0.2490\n",
      "ROUGE-1 Recall: 0.4488\n",
      "ROUGE-1 F1: 0.2930\n",
      "ROUGE-2 Precision: 0.0545\n",
      "ROUGE-2 Recall: 0.1004\n",
      "ROUGE-2 F1: 0.0641\n",
      "ROUGE-L Precision: 0.1263\n",
      "ROUGE-L Recall: 0.2443\n",
      "ROUGE-L F1: 0.1520\n",
      "\n",
      "=== Average BERT Scores ===\n",
      "BERTScore Precision: 0.6164\n",
      "BERTScore Recall: 0.6873\n",
      "BERTScore F1: 0.6481\n",
      "\n",
      "Total 'Missing' count: 0\n"
     ]
    }
   ],
   "source": [
    "calculate_statistics(\"DecomposedIR_result/eval_self_reflection.json\")"
   ]
  },
  {
   "cell_type": "code",
   "execution_count": 4,
   "metadata": {},
   "outputs": [
    {
     "name": "stdout",
     "output_type": "stream",
     "text": [
      "\n",
      "=== Average ROUGE Scores ===\n",
      "ROUGE-1 Precision: 0.2918\n",
      "ROUGE-1 Recall: 0.4402\n",
      "ROUGE-1 F1: 0.3160\n",
      "ROUGE-2 Precision: 0.0748\n",
      "ROUGE-2 Recall: 0.1024\n",
      "ROUGE-2 F1: 0.0768\n",
      "ROUGE-L Precision: 0.1567\n",
      "ROUGE-L Recall: 0.2472\n",
      "ROUGE-L F1: 0.1714\n",
      "\n",
      "=== Average BERT Scores ===\n",
      "BERTScore Precision: 0.1344\n",
      "BERTScore Recall: 0.2216\n",
      "BERTScore F1: 0.1767\n",
      "\n",
      "Total 'Missing' count: 0\n"
     ]
    }
   ],
   "source": [
    "calculate_statistics(\"DecomposedIR_result/eval.json\")"
   ]
  },
  {
   "cell_type": "code",
   "execution_count": null,
   "metadata": {},
   "outputs": [],
   "source": []
  }
 ],
 "metadata": {
  "kernelspec": {
   "display_name": "master_project_env",
   "language": "python",
   "name": "python3"
  },
  "language_info": {
   "codemirror_mode": {
    "name": "ipython",
    "version": 3
   },
   "file_extension": ".py",
   "mimetype": "text/x-python",
   "name": "python",
   "nbconvert_exporter": "python",
   "pygments_lexer": "ipython3",
   "version": "3.12.2"
  }
 },
 "nbformat": 4,
 "nbformat_minor": 2
}
